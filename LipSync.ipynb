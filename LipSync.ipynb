{
  "cells": [
    {
      "cell_type": "markdown",
      "metadata": {
        "id": "view-in-github",
        "colab_type": "text"
      },
      "source": [
        "<a href=\"https://colab.research.google.com/github/komal029/LipRead/blob/main/LipSync.ipynb\" target=\"_parent\"><img src=\"https://colab.research.google.com/assets/colab-badge.svg\" alt=\"Open In Colab\"/></a>"
      ]
    },
    {
      "cell_type": "markdown",
      "metadata": {
        "id": "iB_C4agCkLtm"
      },
      "source": [
        "#1.0 Install and Import Dependencies\n"
      ]
    },
    {
      "cell_type": "code",
      "execution_count": null,
      "metadata": {
        "id": "74mEWGZyj_c7"
      },
      "outputs": [],
      "source": [
        "!pip install opencv-python matplotlib imageio gdown tensorflow\n",
        "#opencv- preprocess the data\n",
        "#imageio- to create gifs, to see the frames stacked together\n",
        "#gdown- to download the data set\n",
        "#tensorflow- to build the DNN"
      ]
    },
    {
      "cell_type": "code",
      "execution_count": null,
      "metadata": {
        "id": "RgTATEw96fUG"
      },
      "outputs": [],
      "source": [
        "!pip list"
      ]
    },
    {
      "cell_type": "code",
      "execution_count": null,
      "metadata": {
        "id": "oDB3jsev7HhV"
      },
      "outputs": [],
      "source": [
        "#Importing Dependencies\n",
        "import os #to traverse through the file system\n",
        "import cv2 #to import opencv that will laod and preprocess the data\n",
        "import tensorflow as tf\n",
        "import numpy as np\n",
        "from typing import List\n",
        "from matplotlib import pyplot as plt\n",
        "import imageio #from numpy array to gif"
      ]
    },
    {
      "cell_type": "markdown",
      "metadata": {
        "id": "0AjjnX8P9fSp"
      },
      "source": [
        "#Settin up the GPU"
      ]
    },
    {
      "cell_type": "code",
      "execution_count": null,
      "metadata": {
        "id": "4Q203D3F9L1y"
      },
      "outputs": [],
      "source": [
        "physical_device = tf.config.list_physical_devices('GPU')"
      ]
    },
    {
      "cell_type": "code",
      "execution_count": null,
      "metadata": {
        "id": "Dvd1CzFO7kfo"
      },
      "outputs": [],
      "source": [
        "try:\n",
        "  tf.config.experimental.set_memory_growth(physical_devices[0], True)\n",
        "except:\n",
        "  pass"
      ]
    },
    {
      "cell_type": "markdown",
      "metadata": {
        "id": "GUYiqe0M-TR7"
      },
      "source": [
        "#1.1 Build Data Loading Function"
      ]
    },
    {
      "cell_type": "code",
      "execution_count": null,
      "metadata": {
        "id": "445bSIMvBJv-",
        "colab": {
          "base_uri": "https://localhost:8080/",
          "height": 211
        },
        "outputId": "ca517208-28f5-4bc2-fe3e-196b46913660"
      },
      "outputs": [
        {
          "output_type": "error",
          "ename": "NameError",
          "evalue": "name 'List' is not defined",
          "traceback": [
            "\u001b[0;31m---------------------------------------------------------------------------\u001b[0m",
            "\u001b[0;31mNameError\u001b[0m                                 Traceback (most recent call last)",
            "\u001b[0;32m<ipython-input-1-356167fe766b>\u001b[0m in \u001b[0;36m<cell line: 1>\u001b[0;34m()\u001b[0m\n\u001b[0;32m----> 1\u001b[0;31m \u001b[0;32mdef\u001b[0m \u001b[0mload_video\u001b[0m\u001b[0;34m(\u001b[0m\u001b[0mpath\u001b[0m\u001b[0;34m:\u001b[0m\u001b[0mstr\u001b[0m\u001b[0;34m)\u001b[0m \u001b[0;34m->\u001b[0m \u001b[0mList\u001b[0m\u001b[0;34m[\u001b[0m\u001b[0mfloat\u001b[0m\u001b[0;34m]\u001b[0m\u001b[0;34m:\u001b[0m\u001b[0;34m\u001b[0m\u001b[0;34m\u001b[0m\u001b[0m\n\u001b[0m\u001b[1;32m      2\u001b[0m \u001b[0;34m\u001b[0m\u001b[0m\n\u001b[1;32m      3\u001b[0m   \u001b[0mcap\u001b[0m \u001b[0;34m=\u001b[0m \u001b[0mcv2\u001b[0m\u001b[0;34m.\u001b[0m\u001b[0mVideoCapture\u001b[0m\u001b[0;34m(\u001b[0m\u001b[0mpath\u001b[0m\u001b[0;34m)\u001b[0m\u001b[0;34m\u001b[0m\u001b[0;34m\u001b[0m\u001b[0m\n\u001b[1;32m      4\u001b[0m   \u001b[0mframes\u001b[0m  \u001b[0;34m=\u001b[0m \u001b[0;34m[\u001b[0m\u001b[0;34m]\u001b[0m\u001b[0;34m\u001b[0m\u001b[0;34m\u001b[0m\u001b[0m\n\u001b[1;32m      5\u001b[0m   \u001b[0;32mfor\u001b[0m \u001b[0m_\u001b[0m \u001b[0;32min\u001b[0m \u001b[0mrange\u001b[0m\u001b[0;34m(\u001b[0m\u001b[0mint\u001b[0m\u001b[0;34m(\u001b[0m\u001b[0mcap\u001b[0m\u001b[0;34m.\u001b[0m\u001b[0mget\u001b[0m\u001b[0;34m(\u001b[0m\u001b[0mcv2\u001b[0m\u001b[0;34m.\u001b[0m\u001b[0mCAP_PROP_FRAME_COUNT\u001b[0m\u001b[0;34m)\u001b[0m\u001b[0;34m)\u001b[0m\u001b[0;34m)\u001b[0m\u001b[0;34m:\u001b[0m\u001b[0;34m\u001b[0m\u001b[0;34m\u001b[0m\u001b[0m\n",
            "\u001b[0;31mNameError\u001b[0m: name 'List' is not defined"
          ]
        }
      ],
      "source": [
        "def load_video(path:str) -> List[float]:\n",
        "\n",
        "  cap = cv2.VideoCapture(path)\n",
        "  frames  = []\n",
        "  for _ in range(int(cap.get(cv2.CAP_PROP_FRAME_COUNT))):\n",
        "    ret, frame = cap.read()\n",
        "    frame = tf.image.rgb_to_grayscale(frame)\n",
        "    frames.append(frame[199:236, 80:220,:])\n",
        "  cap.release()\n",
        "\n",
        "  mean = tf.math.reduce_mean(frames)\n",
        "  std = tf.math.reduce_std(tf.cast(frames, tf.float32))\n",
        "  return tf.cast((frames - mean), tf.float32) / std\n"
      ]
    },
    {
      "cell_type": "code",
      "execution_count": null,
      "metadata": {
        "id": "ijJbtyMRDmgu"
      },
      "outputs": [],
      "source": [
        "vocab = [x for x in \"abcdefghijklmnopqrstuvwxyz'?!123456789 \"]"
      ]
    },
    {
      "cell_type": "code",
      "execution_count": null,
      "metadata": {
        "colab": {
          "base_uri": "https://localhost:8080/"
        },
        "id": "W9ux53d2EFlz",
        "outputId": "35272a08-3512-441b-8f3c-cf875e614bd6"
      },
      "outputs": [
        {
          "output_type": "execute_result",
          "data": {
            "text/plain": [
              "['a',\n",
              " 'b',\n",
              " 'c',\n",
              " 'd',\n",
              " 'e',\n",
              " 'f',\n",
              " 'g',\n",
              " 'h',\n",
              " 'i',\n",
              " 'j',\n",
              " 'k',\n",
              " 'l',\n",
              " 'm',\n",
              " 'n',\n",
              " 'o',\n",
              " 'p',\n",
              " 'q',\n",
              " 'r',\n",
              " 's',\n",
              " 't',\n",
              " 'u',\n",
              " 'v',\n",
              " 'w',\n",
              " 'x',\n",
              " 'y',\n",
              " 'z',\n",
              " \"'\",\n",
              " '?',\n",
              " '!',\n",
              " '1',\n",
              " '2',\n",
              " '3',\n",
              " '4',\n",
              " '5',\n",
              " '6',\n",
              " '7',\n",
              " '8',\n",
              " '9',\n",
              " ' ']"
            ]
          },
          "metadata": {},
          "execution_count": 9
        }
      ],
      "source": [
        "vocab"
      ]
    },
    {
      "cell_type": "code",
      "execution_count": null,
      "metadata": {
        "colab": {
          "base_uri": "https://localhost:8080/"
        },
        "id": "6nfwgB1vEGfw",
        "outputId": "083d4921-2fbf-4d90-9d0f-676762ceb2f2"
      },
      "outputs": [
        {
          "output_type": "stream",
          "name": "stdout",
          "text": [
            "The vocabulary is: ['', 'a', 'b', 'c', 'd', 'e', 'f', 'g', 'h', 'i', 'j', 'k', 'l', 'm', 'n', 'o', 'p', 'q', 'r', 's', 't', 'u', 'v', 'w', 'x', 'y', 'z', \"'\", '?', '!', '1', '2', '3', '4', '5', '6', '7', '8', '9', ' '] (size=40)\n"
          ]
        }
      ],
      "source": [
        "#Tokenizing the vocabulary\n",
        "from tensorflow import keras\n",
        "\n",
        "char_to_num = keras.layers.StringLookup(vocabulary=vocab, oov_token=\"\")\n",
        "num_to_char = keras.layers.StringLookup(\n",
        "    vocabulary=char_to_num.get_vocabulary(), oov_token=\"\", invert=True\n",
        ")\n",
        "\n",
        "print(\n",
        "    f\"The vocabulary is: {char_to_num.get_vocabulary()} \"\n",
        "    f\"(size={char_to_num.vocabulary_size()})\"\n",
        ")\n"
      ]
    },
    {
      "cell_type": "code",
      "execution_count": null,
      "metadata": {
        "id": "8O5YmmwqOFEX"
      },
      "outputs": [],
      "source": [
        "file_path = \"/content/drive/MyDrive/LipRead/data\""
      ]
    },
    {
      "cell_type": "code",
      "execution_count": null,
      "metadata": {
        "id": "C6k8wO5SEztD"
      },
      "outputs": [],
      "source": [
        "def load_alignments(path: str) -> List[str]:\n",
        "    tokens = []  # Initialize tokens as an empty list\n",
        "    with open(path, 'r') as f:\n",
        "        lines = f.readlines()\n",
        "        for line in lines:\n",
        "            line = line.split()\n",
        "            if line[2] != 'sil':\n",
        "                tokens.extend([' ', line[2]])  # Append to the list\n",
        "    return char_to_num(tf.reshape(tf.strings.unicode_split(tokens, input_encoding='UTF-8'), (-1)))[1:]\n"
      ]
    },
    {
      "cell_type": "code",
      "execution_count": null,
      "metadata": {
        "id": "X_6mBvO1JQ1z"
      },
      "outputs": [],
      "source": [
        "def load_data(path: str):\n",
        "    path = bytes.decode(path.numpy())\n",
        "    file_name = path.split('/')[-1].split('.')[0]\n",
        "\n",
        "    # Use drive_folder_path as the base path\n",
        "    video_path = os.path.join(file_path, 's1', f'{file_name}.mpg')\n",
        "    alignment_path = os.path.join(file_path, 'alignments', 's1', f'{file_name}.align')\n",
        "\n",
        "    frames = load_video(video_path)\n",
        "    alignments = load_alignments(alignment_path)\n",
        "\n",
        "    return frames, alignments\n"
      ]
    },
    {
      "cell_type": "code",
      "execution_count": null,
      "metadata": {
        "id": "_bImrnbmKkXY"
      },
      "outputs": [],
      "source": [
        "test_path = \"/content/drive/MyDrive/LipRead/data/s1/bbaf2n.mpg\""
      ]
    },
    {
      "cell_type": "code",
      "execution_count": null,
      "metadata": {
        "colab": {
          "base_uri": "https://localhost:8080/",
          "height": 35
        },
        "id": "mS2jjZpCLUxh",
        "outputId": "8d9037d0-d9d2-4732-c9aa-42037666b2eb"
      },
      "outputs": [
        {
          "output_type": "execute_result",
          "data": {
            "text/plain": [
              "'bbaf2n'"
            ],
            "application/vnd.google.colaboratory.intrinsic+json": {
              "type": "string"
            }
          },
          "metadata": {},
          "execution_count": 15
        }
      ],
      "source": [
        "tf.convert_to_tensor(test_path).numpy().decode('utf-8').split('/')[-1].split('.')[0]"
      ]
    },
    {
      "cell_type": "code",
      "execution_count": null,
      "metadata": {
        "id": "7mwkHSQ7K4W5"
      },
      "outputs": [],
      "source": [
        "frames, alignments = load_data(tf.convert_to_tensor(test_path))"
      ]
    },
    {
      "cell_type": "code",
      "execution_count": null,
      "metadata": {
        "colab": {
          "base_uri": "https://localhost:8080/",
          "height": 212
        },
        "id": "yS1rLwP-Y4HO",
        "outputId": "1ae07aba-593f-40da-8afb-4e71b6d07984"
      },
      "outputs": [
        {
          "output_type": "execute_result",
          "data": {
            "text/plain": [
              "<matplotlib.image.AxesImage at 0x7fd0e909feb0>"
            ]
          },
          "metadata": {},
          "execution_count": 17
        },
        {
          "output_type": "display_data",
          "data": {
            "text/plain": [
              "<Figure size 640x480 with 1 Axes>"
            ],
            "image/png": "[encoded data removed]"
          },
          "metadata": {}
        }
      ],
      "source": [
        "plt.imshow(frames[50])"
      ]
    },
    {
      "cell_type": "markdown",
      "metadata": {
        "id": "6glGUXe4aMlE"
      },
      "source": []
    },
    {
      "cell_type": "code",
      "execution_count": null,
      "metadata": {
        "colab": {
          "base_uri": "https://localhost:8080/"
        },
        "id": "ro9bki5EZJ-w",
        "outputId": "d1785000-2a3a-45a1-8fc3-31c2c84bdcf5"
      },
      "outputs": [
        {
          "output_type": "execute_result",
          "data": {
            "text/plain": [
              "<tf.Tensor: shape=(), dtype=string, numpy=b'bin blue at f two now'>"
            ]
          },
          "metadata": {},
          "execution_count": 18
        }
      ],
      "source": [
        "tf.strings.reduce_join(([bytes.decode(x) for x in num_to_char(alignments.numpy()).numpy()]))"
      ]
    },
    {
      "cell_type": "code",
      "execution_count": null,
      "metadata": {
        "id": "TztBNt2IQRz4"
      },
      "outputs": [],
      "source": [
        "def mappable_function(path:str) ->List[str]:\n",
        "  result = tf.py_function(load_data, [path], (tf.float32, tf.int64))\n",
        "  return result"
      ]
    },
    {
      "cell_type": "markdown",
      "metadata": {
        "id": "x6S2i3zn0Hgg"
      },
      "source": [
        "# 1.2 Create Data Pipeline\n"
      ]
    },
    {
      "cell_type": "code",
      "execution_count": null,
      "metadata": {
        "id": "cUBs6zYMauW-"
      },
      "outputs": [],
      "source": [
        "data = tf.data.Dataset.list_files('/content/drive/MyDrive/LipRead/data/s1/*mpg')\n",
        "data = data.shuffle(500, reshuffle_each_iteration=False)\n",
        "data = data.map(mappable_function)\n",
        "data = data.padded_batch(2, padded_shapes=([75, None, None, None], [40]))\n",
        "data = data.prefetch(tf.data.AUTOTUNE)\n",
        "train = data.take(450)\n",
        "test = data.skip(450)"
      ]
    },
    {
      "cell_type": "code",
      "execution_count": null,
      "metadata": {
        "id": "uIHIo8iv1bsu"
      },
      "outputs": [],
      "source": [
        "frames, alignments = data.as_numpy_iterator().next()"
      ]
    },
    {
      "cell_type": "code",
      "execution_count": null,
      "metadata": {
        "colab": {
          "base_uri": "https://localhost:8080/"
        },
        "id": "_lxyDN8QEt9C",
        "outputId": "75aea8fb-2028-4aec-a70c-dbb23cbcee4d"
      },
      "outputs": [
        {
          "output_type": "execute_result",
          "data": {
            "text/plain": [
              "2"
            ]
          },
          "metadata": {},
          "execution_count": 22
        }
      ],
      "source": [
        "len(frames)"
      ]
    },
    {
      "cell_type": "code",
      "execution_count": null,
      "metadata": {
        "id": "EFsp0jWD5Oer"
      },
      "outputs": [],
      "source": [
        "test = data.as_numpy_iterator()"
      ]
    },
    {
      "cell_type": "code",
      "execution_count": null,
      "metadata": {
        "colab": {
          "base_uri": "https://localhost:8080/"
        },
        "id": "tlMgTCWn5po4",
        "outputId": "439a234a-f2ff-4285-a95c-595b3922189f"
      },
      "outputs": [
        {
          "output_type": "execute_result",
          "data": {
            "text/plain": [
              "array([[[[[1.5223012 ],\n",
              "          [1.5223012 ],\n",
              "          [1.5223012 ],\n",
              "          ...,\n",
              "          [0.49563295],\n",
              "          [0.49563295],\n",
              "          [0.49563295]],\n",
              "\n",
              "         [[1.4868988 ],\n",
              "          [1.4868988 ],\n",
              "          [1.4514965 ],\n",
              "          ...,\n",
              "          [0.4602306 ],\n",
              "          [0.4602306 ],\n",
              "          [0.4602306 ]],\n",
              "\n",
              "         [[1.4868988 ],\n",
              "          [1.4868988 ],\n",
              "          [1.4514965 ],\n",
              "          ...,\n",
              "          [0.4602306 ],\n",
              "          [0.4602306 ],\n",
              "          [0.4602306 ]],\n",
              "\n",
              "         ...,\n",
              "\n",
              "         [[1.0974729 ],\n",
              "          [1.0974729 ],\n",
              "          [1.0974729 ],\n",
              "          ...,\n",
              "          [0.21241412],\n",
              "          [0.21241412],\n",
              "          [0.21241412]],\n",
              "\n",
              "         [[1.0974729 ],\n",
              "          [1.0974729 ],\n",
              "          [1.0974729 ],\n",
              "          ...,\n",
              "          [0.17701177],\n",
              "          [0.17701177],\n",
              "          [0.17701177]],\n",
              "\n",
              "         [[1.0974729 ],\n",
              "          [1.0974729 ],\n",
              "          [1.0974729 ],\n",
              "          ...,\n",
              "          [0.17701177],\n",
              "          [0.17701177],\n",
              "          [0.17701177]]],\n",
              "\n",
              "\n",
              "        [[[1.4514965 ],\n",
              "          [1.4514965 ],\n",
              "          [1.4514965 ],\n",
              "          ...,\n",
              "          [0.4602306 ],\n",
              "          [0.4602306 ],\n",
              "          [0.4602306 ]],\n",
              "\n",
              "         [[1.4514965 ],\n",
              "          [1.4514965 ],\n",
              "          [1.4160942 ],\n",
              "          ...,\n",
              "          [0.49563295],\n",
              "          [0.4602306 ],\n",
              "          [0.4602306 ]],\n",
              "\n",
              "         [[1.4514965 ],\n",
              "          [1.4514965 ],\n",
              "          [1.4160942 ],\n",
              "          ...,\n",
              "          [0.49563295],\n",
              "          [0.4602306 ],\n",
              "          [0.4602306 ]],\n",
              "\n",
              "         ...,\n",
              "\n",
              "         [[1.1328753 ],\n",
              "          [1.1328753 ],\n",
              "          [1.1328753 ],\n",
              "          ...,\n",
              "          [0.21241412],\n",
              "          [0.21241412],\n",
              "          [0.21241412]],\n",
              "\n",
              "         [[1.0974729 ],\n",
              "          [1.0974729 ],\n",
              "          [1.0974729 ],\n",
              "          ...,\n",
              "          [0.17701177],\n",
              "          [0.17701177],\n",
              "          [0.17701177]],\n",
              "\n",
              "         [[1.0974729 ],\n",
              "          [1.0620706 ],\n",
              "          [1.0620706 ],\n",
              "          ...,\n",
              "          [0.17701177],\n",
              "          [0.17701177],\n",
              "          [0.17701177]]],\n",
              "\n",
              "\n",
              "        [[[1.4868988 ],\n",
              "          [1.4868988 ],\n",
              "          [1.4514965 ],\n",
              "          ...,\n",
              "          [0.49563295],\n",
              "          [0.4602306 ],\n",
              "          [0.4602306 ]],\n",
              "\n",
              "         [[1.4868988 ],\n",
              "          [1.4868988 ],\n",
              "          [1.4514965 ],\n",
              "          ...,\n",
              "          [0.49563295],\n",
              "          [0.49563295],\n",
              "          [0.49563295]],\n",
              "\n",
              "         [[1.4868988 ],\n",
              "          [1.4868988 ],\n",
              "          [1.4514965 ],\n",
              "          ...,\n",
              "          [0.49563295],\n",
              "          [0.4602306 ],\n",
              "          [0.4602306 ]],\n",
              "\n",
              "         ...,\n",
              "\n",
              "         [[1.1682776 ],\n",
              "          [1.1682776 ],\n",
              "          [1.1682776 ],\n",
              "          ...,\n",
              "          [0.17701177],\n",
              "          [0.17701177],\n",
              "          [0.14160942]],\n",
              "\n",
              "         [[1.1328753 ],\n",
              "          [1.1328753 ],\n",
              "          [1.1328753 ],\n",
              "          ...,\n",
              "          [0.17701177],\n",
              "          [0.14160942],\n",
              "          [0.14160942]],\n",
              "\n",
              "         [[1.1328753 ],\n",
              "          [1.0974729 ],\n",
              "          [1.0974729 ],\n",
              "          ...,\n",
              "          [0.14160942],\n",
              "          [0.14160942],\n",
              "          [0.07080471]]],\n",
              "\n",
              "\n",
              "        ...,\n",
              "\n",
              "\n",
              "        [[[1.5223012 ],\n",
              "          [1.5223012 ],\n",
              "          [1.5223012 ],\n",
              "          ...,\n",
              "          [0.4602306 ],\n",
              "          [0.4602306 ],\n",
              "          [0.4602306 ]],\n",
              "\n",
              "         [[1.4160942 ],\n",
              "          [1.4160942 ],\n",
              "          [1.3806918 ],\n",
              "          ...,\n",
              "          [0.38942587],\n",
              "          [0.38942587],\n",
              "          [0.38942587]],\n",
              "\n",
              "         [[1.4160942 ],\n",
              "          [1.4160942 ],\n",
              "          [1.3806918 ],\n",
              "          ...,\n",
              "          [0.38942587],\n",
              "          [0.38942587],\n",
              "          [0.38942587]],\n",
              "\n",
              "         ...,\n",
              "\n",
              "         [[1.1328753 ],\n",
              "          [1.1328753 ],\n",
              "          [1.0974729 ],\n",
              "          ...,\n",
              "          [0.14160942],\n",
              "          [0.14160942],\n",
              "          [0.14160942]],\n",
              "\n",
              "         [[1.1328753 ],\n",
              "          [1.1328753 ],\n",
              "          [1.0974729 ],\n",
              "          ...,\n",
              "          [0.14160942],\n",
              "          [0.14160942],\n",
              "          [0.10620706]],\n",
              "\n",
              "         [[1.1328753 ],\n",
              "          [1.1328753 ],\n",
              "          [1.0974729 ],\n",
              "          ...,\n",
              "          [0.14160942],\n",
              "          [0.10620706],\n",
              "          [0.10620706]]],\n",
              "\n",
              "\n",
              "        [[[1.4868988 ],\n",
              "          [1.4868988 ],\n",
              "          [1.4868988 ],\n",
              "          ...,\n",
              "          [0.42482823],\n",
              "          [0.42482823],\n",
              "          [0.42482823]],\n",
              "\n",
              "         [[1.4514965 ],\n",
              "          [1.4514965 ],\n",
              "          [1.4514965 ],\n",
              "          ...,\n",
              "          [0.35402355],\n",
              "          [0.35402355],\n",
              "          [0.35402355]],\n",
              "\n",
              "         [[1.4514965 ],\n",
              "          [1.4514965 ],\n",
              "          [1.4514965 ],\n",
              "          ...,\n",
              "          [0.35402355],\n",
              "          [0.35402355],\n",
              "          [0.35402355]],\n",
              "\n",
              "         ...,\n",
              "\n",
              "         [[1.0974729 ],\n",
              "          [1.0974729 ],\n",
              "          [1.0974729 ],\n",
              "          ...,\n",
              "          [0.14160942],\n",
              "          [0.14160942],\n",
              "          [0.14160942]],\n",
              "\n",
              "         [[1.0974729 ],\n",
              "          [1.0974729 ],\n",
              "          [1.0974729 ],\n",
              "          ...,\n",
              "          [0.14160942],\n",
              "          [0.14160942],\n",
              "          [0.14160942]],\n",
              "\n",
              "         [[1.0974729 ],\n",
              "          [1.0974729 ],\n",
              "          [1.0974729 ],\n",
              "          ...,\n",
              "          [0.14160942],\n",
              "          [0.14160942],\n",
              "          [0.10620706]]],\n",
              "\n",
              "\n",
              "        [[[1.4868988 ],\n",
              "          [1.4868988 ],\n",
              "          [1.4868988 ],\n",
              "          ...,\n",
              "          [0.4602306 ],\n",
              "          [0.42482823],\n",
              "          [0.42482823]],\n",
              "\n",
              "         [[1.4160942 ],\n",
              "          [1.4160942 ],\n",
              "          [1.4160942 ],\n",
              "          ...,\n",
              "          [0.35402355],\n",
              "          [0.35402355],\n",
              "          [0.35402355]],\n",
              "\n",
              "         [[1.4160942 ],\n",
              "          [1.4160942 ],\n",
              "          [1.4160942 ],\n",
              "          ...,\n",
              "          [0.35402355],\n",
              "          [0.35402355],\n",
              "          [0.35402355]],\n",
              "\n",
              "         ...,\n",
              "\n",
              "         [[1.1328753 ],\n",
              "          [1.1328753 ],\n",
              "          [1.1682776 ],\n",
              "          ...,\n",
              "          [0.14160942],\n",
              "          [0.14160942],\n",
              "          [0.14160942]],\n",
              "\n",
              "         [[1.1328753 ],\n",
              "          [1.1328753 ],\n",
              "          [1.1328753 ],\n",
              "          ...,\n",
              "          [0.14160942],\n",
              "          [0.14160942],\n",
              "          [0.14160942]],\n",
              "\n",
              "         [[1.1328753 ],\n",
              "          [1.1328753 ],\n",
              "          [1.1328753 ],\n",
              "          ...,\n",
              "          [0.14160942],\n",
              "          [0.14160942],\n",
              "          [0.10620706]]]],\n",
              "\n",
              "\n",
              "\n",
              "       [[[[1.2820266 ],\n",
              "          [1.2820266 ],\n",
              "          [1.2820266 ],\n",
              "          ...,\n",
              "          [0.15539718],\n",
              "          [0.11654788],\n",
              "          [0.11654788]],\n",
              "\n",
              "         [[1.2820266 ],\n",
              "          [1.2820266 ],\n",
              "          [1.2820266 ],\n",
              "          ...,\n",
              "          [0.15539718],\n",
              "          [0.07769859],\n",
              "          [0.07769859]],\n",
              "\n",
              "         [[1.2820266 ],\n",
              "          [1.2820266 ],\n",
              "          [1.2820266 ],\n",
              "          ...,\n",
              "          [0.15539718],\n",
              "          [0.07769859],\n",
              "          [0.07769859]],\n",
              "\n",
              "         ...,\n",
              "\n",
              "         [[0.97123235],\n",
              "          [0.97123235],\n",
              "          [0.97123235],\n",
              "          ...,\n",
              "          [9.751173  ],\n",
              "          [9.712323  ],\n",
              "          [9.712323  ]],\n",
              "\n",
              "         [[0.97123235],\n",
              "          [0.97123235],\n",
              "          [0.97123235],\n",
              "          ...,\n",
              "          [9.712323  ],\n",
              "          [9.712323  ],\n",
              "          [9.712323  ]],\n",
              "\n",
              "         [[0.97123235],\n",
              "          [0.97123235],\n",
              "          [0.97123235],\n",
              "          ...,\n",
              "          [9.712323  ],\n",
              "          [9.712323  ],\n",
              "          [9.712323  ]]],\n",
              "\n",
              "\n",
              "        [[[1.2820266 ],\n",
              "          [1.2820266 ],\n",
              "          [1.2820266 ],\n",
              "          ...,\n",
              "          [0.15539718],\n",
              "          [0.15539718],\n",
              "          [0.11654788]],\n",
              "\n",
              "         [[1.2820266 ],\n",
              "          [1.2820266 ],\n",
              "          [1.2820266 ],\n",
              "          ...,\n",
              "          [0.15539718],\n",
              "          [0.15539718],\n",
              "          [0.11654788]],\n",
              "\n",
              "         [[1.2820266 ],\n",
              "          [1.2820266 ],\n",
              "          [1.2820266 ],\n",
              "          ...,\n",
              "          [0.15539718],\n",
              "          [0.15539718],\n",
              "          [0.11654788]],\n",
              "\n",
              "         ...,\n",
              "\n",
              "         [[1.0100816 ],\n",
              "          [1.0100816 ],\n",
              "          [0.97123235],\n",
              "          ...,\n",
              "          [9.751173  ],\n",
              "          [9.751173  ],\n",
              "          [9.751173  ]],\n",
              "\n",
              "         [[1.0100816 ],\n",
              "          [1.0100816 ],\n",
              "          [0.97123235],\n",
              "          ...,\n",
              "          [9.712323  ],\n",
              "          [9.712323  ],\n",
              "          [9.712323  ]],\n",
              "\n",
              "         [[1.0100816 ],\n",
              "          [1.0100816 ],\n",
              "          [0.97123235],\n",
              "          ...,\n",
              "          [9.712323  ],\n",
              "          [9.712323  ],\n",
              "          [9.712323  ]]],\n",
              "\n",
              "\n",
              "        [[[1.2820266 ],\n",
              "          [1.2820266 ],\n",
              "          [1.2820266 ],\n",
              "          ...,\n",
              "          [0.11654788],\n",
              "          [0.11654788],\n",
              "          [0.07769859]],\n",
              "\n",
              "         [[1.2431774 ],\n",
              "          [1.2431774 ],\n",
              "          [1.2431774 ],\n",
              "          ...,\n",
              "          [0.15539718],\n",
              "          [0.15539718],\n",
              "          [0.11654788]],\n",
              "\n",
              "         [[1.2431774 ],\n",
              "          [1.2431774 ],\n",
              "          [1.2431774 ],\n",
              "          ...,\n",
              "          [0.15539718],\n",
              "          [0.15539718],\n",
              "          [0.11654788]],\n",
              "\n",
              "         ...,\n",
              "\n",
              "         [[0.97123235],\n",
              "          [0.97123235],\n",
              "          [0.97123235],\n",
              "          ...,\n",
              "          [9.751173  ],\n",
              "          [9.751173  ],\n",
              "          [9.751173  ]],\n",
              "\n",
              "         [[0.97123235],\n",
              "          [0.97123235],\n",
              "          [0.97123235],\n",
              "          ...,\n",
              "          [9.751173  ],\n",
              "          [9.712323  ],\n",
              "          [9.712323  ]],\n",
              "\n",
              "         [[0.97123235],\n",
              "          [0.97123235],\n",
              "          [0.97123235],\n",
              "          ...,\n",
              "          [9.751173  ],\n",
              "          [9.712323  ],\n",
              "          [9.712323  ]]],\n",
              "\n",
              "\n",
              "        ...,\n",
              "\n",
              "\n",
              "        [[[1.3597252 ],\n",
              "          [1.320876  ],\n",
              "          [1.320876  ],\n",
              "          ...,\n",
              "          [0.07769859],\n",
              "          [0.07769859],\n",
              "          [0.03884929]],\n",
              "\n",
              "         [[1.1654788 ],\n",
              "          [1.1654788 ],\n",
              "          [1.1654788 ],\n",
              "          ...,\n",
              "          [0.03884929],\n",
              "          [0.03884929],\n",
              "          [0.03884929]],\n",
              "\n",
              "         [[1.1654788 ],\n",
              "          [1.1654788 ],\n",
              "          [1.1654788 ],\n",
              "          ...,\n",
              "          [0.03884929],\n",
              "          [0.03884929],\n",
              "          [0.03884929]],\n",
              "\n",
              "         ...,\n",
              "\n",
              "         [[1.0100816 ],\n",
              "          [0.97123235],\n",
              "          [0.97123235],\n",
              "          ...,\n",
              "          [9.712323  ],\n",
              "          [9.712323  ],\n",
              "          [9.712323  ]],\n",
              "\n",
              "         [[0.97123235],\n",
              "          [0.97123235],\n",
              "          [0.97123235],\n",
              "          ...,\n",
              "          [9.712323  ],\n",
              "          [9.712323  ],\n",
              "          [9.712323  ]],\n",
              "\n",
              "         [[0.97123235],\n",
              "          [0.97123235],\n",
              "          [0.97123235],\n",
              "          ...,\n",
              "          [9.712323  ],\n",
              "          [9.712323  ],\n",
              "          [9.712323  ]]],\n",
              "\n",
              "\n",
              "        [[[1.2820266 ],\n",
              "          [1.2820266 ],\n",
              "          [1.320876  ],\n",
              "          ...,\n",
              "          [0.07769859],\n",
              "          [0.07769859],\n",
              "          [0.03884929]],\n",
              "\n",
              "         [[1.2431774 ],\n",
              "          [1.2431774 ],\n",
              "          [1.2431774 ],\n",
              "          ...,\n",
              "          [0.07769859],\n",
              "          [0.03884929],\n",
              "          [0.03884929]],\n",
              "\n",
              "         [[1.2431774 ],\n",
              "          [1.2431774 ],\n",
              "          [1.2431774 ],\n",
              "          ...,\n",
              "          [0.07769859],\n",
              "          [0.03884929],\n",
              "          [0.03884929]],\n",
              "\n",
              "         ...,\n",
              "\n",
              "         [[1.0100816 ],\n",
              "          [0.97123235],\n",
              "          [0.97123235],\n",
              "          ...,\n",
              "          [9.751173  ],\n",
              "          [9.751173  ],\n",
              "          [9.751173  ]],\n",
              "\n",
              "         [[0.97123235],\n",
              "          [0.97123235],\n",
              "          [0.97123235],\n",
              "          ...,\n",
              "          [9.712323  ],\n",
              "          [9.712323  ],\n",
              "          [9.712323  ]],\n",
              "\n",
              "         [[0.97123235],\n",
              "          [0.97123235],\n",
              "          [0.97123235],\n",
              "          ...,\n",
              "          [9.712323  ],\n",
              "          [9.712323  ],\n",
              "          [9.712323  ]]],\n",
              "\n",
              "\n",
              "        [[[1.2431774 ],\n",
              "          [1.2820266 ],\n",
              "          [1.2820266 ],\n",
              "          ...,\n",
              "          [0.11654788],\n",
              "          [0.11654788],\n",
              "          [0.07769859]],\n",
              "\n",
              "         [[1.2820266 ],\n",
              "          [1.2820266 ],\n",
              "          [1.2820266 ],\n",
              "          ...,\n",
              "          [0.07769859],\n",
              "          [0.03884929],\n",
              "          [0.03884929]],\n",
              "\n",
              "         [[1.2820266 ],\n",
              "          [1.2820266 ],\n",
              "          [1.2820266 ],\n",
              "          ...,\n",
              "          [0.07769859],\n",
              "          [0.03884929],\n",
              "          [0.03884929]],\n",
              "\n",
              "         ...,\n",
              "\n",
              "         [[0.97123235],\n",
              "          [0.97123235],\n",
              "          [0.93238306],\n",
              "          ...,\n",
              "          [9.751173  ],\n",
              "          [9.751173  ],\n",
              "          [9.751173  ]],\n",
              "\n",
              "         [[0.97123235],\n",
              "          [0.93238306],\n",
              "          [0.93238306],\n",
              "          ...,\n",
              "          [9.712323  ],\n",
              "          [9.712323  ],\n",
              "          [9.712323  ]],\n",
              "\n",
              "         [[0.97123235],\n",
              "          [0.93238306],\n",
              "          [0.93238306],\n",
              "          ...,\n",
              "          [9.712323  ],\n",
              "          [9.712323  ],\n",
              "          [9.712323  ]]]]], dtype=float32)"
            ]
          },
          "metadata": {},
          "execution_count": 24
        }
      ],
      "source": [
        "val = test.next(); val[0]"
      ]
    },
    {
      "cell_type": "code",
      "execution_count": null,
      "metadata": {
        "id": "c718g02UJ4HV"
      },
      "outputs": [],
      "source": [
        "import imageio\n",
        "from PIL import Image\n",
        "import numpy as np"
      ]
    },
    {
      "cell_type": "code",
      "execution_count": null,
      "metadata": {
        "colab": {
          "base_uri": "https://localhost:8080/",
          "height": 212
        },
        "id": "f2AlIQdDKZbt",
        "outputId": "24a480ff-0251-45ef-a20f-e7b2c6fe4182"
      },
      "outputs": [
        {
          "output_type": "execute_result",
          "data": {
            "text/plain": [
              "<matplotlib.image.AxesImage at 0x7fd0e5f3f340>"
            ]
          },
          "metadata": {},
          "execution_count": 26
        },
        {
          "output_type": "display_data",
          "data": {
            "text/plain": [
              "<Figure size 640x480 with 1 Axes>"
            ],
            "image/png": "[encoded data removed]"
          },
          "metadata": {}
        }
      ],
      "source": [
        "# 0:videos, 0: 1st video out of the bacth, 0: return the first frame in the video\n",
        "plt.imshow(val[0][1][35])"
      ]
    },
    {
      "cell_type": "code",
      "execution_count": null,
      "metadata": {
        "colab": {
          "base_uri": "https://localhost:8080/"
        },
        "id": "kL2ol36WGzQ2",
        "outputId": "49988ec3-f1b3-4783-b126-c4bd1c12597b"
      },
      "outputs": [
        {
          "output_type": "execute_result",
          "data": {
            "text/plain": [
              "<tf.Tensor: shape=(), dtype=string, numpy=b'lay white by z six please'>"
            ]
          },
          "metadata": {},
          "execution_count": 27
        }
      ],
      "source": [
        "tf.strings.reduce_join([num_to_char(word) for word in val[1][0]])"
      ]
    },
    {
      "cell_type": "markdown",
      "metadata": {
        "id": "HMnCz1Co9GtM"
      },
      "source": [
        "# Design the Deep Neural Network"
      ]
    },
    {
      "cell_type": "code",
      "execution_count": null,
      "metadata": {
        "id": "mjL6d77zPdhL"
      },
      "outputs": [],
      "source": [
        "# using CTC Connectionist Temporal Classification as loss function"
      ]
    },
    {
      "cell_type": "code",
      "execution_count": null,
      "metadata": {
        "id": "VQbj9gIo-Kzo"
      },
      "outputs": [],
      "source": [
        "from tensorflow.keras.models import Sequential\n",
        "from tensorflow.keras.layers import Conv3D, LSTM, Dense, Dropout, Bidirectional, MaxPool3D, Activation, Reshape, SpatialDropout3D, BatchNormalization, TimeDistributed, Flatten\n",
        "from tensorflow.keras.optimizers import Adam\n",
        "from tensorflow.keras.callbacks import ModelCheckpoint, LearningRateScheduler\n"
      ]
    },
    {
      "cell_type": "code",
      "execution_count": null,
      "metadata": {
        "id": "G21M4xTj-912"
      },
      "outputs": [],
      "source": [
        "#Neural Network\n",
        "model = Sequential()\n",
        "model.add(Conv3D(128, 3, input_shape=(75, 37, 140, 1), padding='same'))\n",
        "model.add(Activation('relu'))\n",
        "model.add(MaxPool3D((1,2,2)))\n",
        "\n",
        "model.add(Conv3D(256, 3, padding='same'))\n",
        "model.add(Activation('relu'))\n",
        "model.add(MaxPool3D((1,2,2)))\n",
        "\n",
        "model.add(Conv3D(75, 3, padding='same'))\n",
        "model.add(Activation('relu'))\n",
        "model.add(MaxPool3D((1,2,2)))\n",
        "\n",
        "model.add(TimeDistributed(Flatten()))\n",
        "\n",
        "model.add(Bidirectional(LSTM(128, kernel_initializer = 'Orthogonal', return_sequences = True)))\n",
        "model.add(Dropout(.5))\n",
        "\n",
        "model.add(Bidirectional(LSTM(128, kernel_initializer = 'Orthogonal', return_sequences = True)))\n",
        "model.add(Dropout(.5))\n",
        "\n",
        "model.add(Dense(char_to_num.vocabulary_size()+1, kernel_initializer='he_normal', activation = 'softmax'))"
      ]
    },
    {
      "cell_type": "code",
      "execution_count": null,
      "metadata": {
        "colab": {
          "base_uri": "https://localhost:8080/"
        },
        "id": "mmdNXKKbHM24",
        "outputId": "947fc9e4-f2e0-4578-e1c2-ed75c672492c"
      },
      "outputs": [
        {
          "output_type": "stream",
          "name": "stderr",
          "text": [
            "WARNING:tensorflow:vocab_size is deprecated, please use vocabulary_size.\n"
          ]
        },
        {
          "output_type": "execute_result",
          "data": {
            "text/plain": [
              "40"
            ]
          },
          "metadata": {},
          "execution_count": 31
        }
      ],
      "source": [
        "char_to_num.vocab_size()"
      ]
    },
    {
      "cell_type": "code",
      "execution_count": null,
      "metadata": {
        "colab": {
          "base_uri": "https://localhost:8080/"
        },
        "id": "tvOIf80tHAI3",
        "outputId": "8313adb2-53ef-4b01-f3b6-d3c763265999"
      },
      "outputs": [
        {
          "output_type": "stream",
          "name": "stdout",
          "text": [
            "Model: \"sequential\"\n",
            "_________________________________________________________________\n",
            " Layer (type)                Output Shape              Param #   \n",
            "=================================================================\n",
            " conv3d (Conv3D)             (None, 75, 37, 140, 128   3584      \n",
            "                             )                                   \n",
            "                                                                 \n",
            " activation (Activation)     (None, 75, 37, 140, 128   0         \n",
            "                             )                                   \n",
            "                                                                 \n",
            " max_pooling3d (MaxPooling3  (None, 75, 18, 70, 128)   0         \n",
            " D)                                                              \n",
            "                                                                 \n",
            " conv3d_1 (Conv3D)           (None, 75, 18, 70, 256)   884992    \n",
            "                                                                 \n",
            " activation_1 (Activation)   (None, 75, 18, 70, 256)   0         \n",
            "                                                                 \n",
            " max_pooling3d_1 (MaxPoolin  (None, 75, 9, 35, 256)    0         \n",
            " g3D)                                                            \n",
            "                                                                 \n",
            " conv3d_2 (Conv3D)           (None, 75, 9, 35, 75)     518475    \n",
            "                                                                 \n",
            " activation_2 (Activation)   (None, 75, 9, 35, 75)     0         \n",
            "                                                                 \n",
            " max_pooling3d_2 (MaxPoolin  (None, 75, 4, 17, 75)     0         \n",
            " g3D)                                                            \n",
            "                                                                 \n",
            " time_distributed (TimeDist  (None, 75, 5100)          0         \n",
            " ributed)                                                        \n",
            "                                                                 \n",
            " bidirectional (Bidirection  (None, 75, 256)           5354496   \n",
            " al)                                                             \n",
            "                                                                 \n",
            " dropout (Dropout)           (None, 75, 256)           0         \n",
            "                                                                 \n",
            " bidirectional_1 (Bidirecti  (None, 75, 256)           394240    \n",
            " onal)                                                           \n",
            "                                                                 \n",
            " dropout_1 (Dropout)         (None, 75, 256)           0         \n",
            "                                                                 \n",
            " dense (Dense)               (None, 75, 41)            10537     \n",
            "                                                                 \n",
            "=================================================================\n",
            "Total params: 7166324 (27.34 MB)\n",
            "Trainable params: 7166324 (27.34 MB)\n",
            "Non-trainable params: 0 (0.00 Byte)\n",
            "_________________________________________________________________\n"
          ]
        }
      ],
      "source": [
        "model.summary()"
      ]
    },
    {
      "cell_type": "code",
      "execution_count": null,
      "metadata": {
        "colab": {
          "base_uri": "https://localhost:8080/"
        },
        "id": "bdlbJDpoKvfV",
        "outputId": "7c5d21c3-74d4-423d-80e7-bd9455282603"
      },
      "outputs": [
        {
          "output_type": "stream",
          "name": "stdout",
          "text": [
            "(2, 75, 37, 140, 1)\n"
          ]
        }
      ],
      "source": [
        "print(val[0].shape)"
      ]
    },
    {
      "cell_type": "code",
      "execution_count": null,
      "metadata": {
        "colab": {
          "base_uri": "https://localhost:8080/"
        },
        "id": "cY-D8wX_IAhS",
        "outputId": "fe8098ea-9cdb-4ece-e9b4-06eae9000fcb"
      },
      "outputs": [
        {
          "output_type": "stream",
          "name": "stdout",
          "text": [
            "1/1 [==============================] - 24s 24s/step\n"
          ]
        }
      ],
      "source": [
        "yhat = model.predict(val[0])"
      ]
    },
    {
      "cell_type": "code",
      "execution_count": null,
      "metadata": {
        "colab": {
          "base_uri": "https://localhost:8080/"
        },
        "id": "NF4d8AWbKLNh",
        "outputId": "05ac3a72-8201-425f-9125-7f65e51a1127"
      },
      "outputs": [
        {
          "output_type": "execute_result",
          "data": {
            "text/plain": [
              "<tf.Tensor: shape=(), dtype=string, numpy=b'llllllllllllllllllllllllllllllllllllllllllllddttttttttttlllttttttttttttttjj'>"
            ]
          },
          "metadata": {},
          "execution_count": 35
        }
      ],
      "source": [
        "tf.strings.reduce_join([num_to_char(tf.argmax(x)) for x in yhat[1]])"
      ]
    },
    {
      "cell_type": "code",
      "execution_count": null,
      "metadata": {
        "colab": {
          "base_uri": "https://localhost:8080/"
        },
        "id": "TW519JZ4L6kf",
        "outputId": "548702de-2354-4c16-ab0f-92150f08124b"
      },
      "outputs": [
        {
          "output_type": "execute_result",
          "data": {
            "text/plain": [
              "(75, 41)"
            ]
          },
          "metadata": {},
          "execution_count": 36
        }
      ],
      "source": [
        "yhat[0].shape"
      ]
    },
    {
      "cell_type": "code",
      "execution_count": null,
      "metadata": {
        "colab": {
          "base_uri": "https://localhost:8080/"
        },
        "id": "p0mIAK5XMhCa",
        "outputId": "ea41b160-8377-47c8-9e57-4afe81610582"
      },
      "outputs": [
        {
          "output_type": "execute_result",
          "data": {
            "text/plain": [
              "<tf.Tensor: shape=(75,), dtype=int64, numpy=\n",
              "array([11, 11, 11, 11, 11, 11, 11, 11, 32, 32, 32, 32, 32, 32, 32, 11, 11,\n",
              "       11, 11, 11, 11, 11, 11, 11, 11, 11, 11, 11, 11, 11, 11, 11, 11,  0,\n",
              "        0,  0,  0,  0,  0,  0,  0,  0,  0,  0,  0,  0,  0,  0,  0, 11, 11,\n",
              "       11, 11, 11, 11, 11, 11, 11, 11, 11, 11, 11, 11, 11, 11, 11, 11, 11,\n",
              "       11,  0,  0,  0,  0,  0,  0])>"
            ]
          },
          "metadata": {},
          "execution_count": 37
        }
      ],
      "source": [
        "tf.argmax(yhat[0],axis=1)"
      ]
    },
    {
      "cell_type": "code",
      "execution_count": null,
      "metadata": {
        "colab": {
          "base_uri": "https://localhost:8080/"
        },
        "id": "EHpmE2lzMq3s",
        "outputId": "890b881c-7693-4567-8559-220d4ec119c2"
      },
      "outputs": [
        {
          "output_type": "execute_result",
          "data": {
            "text/plain": [
              "<tf.Tensor: shape=(), dtype=string, numpy=b'kkkkkkkk3333333kkkkkkkkkkkkkkkkkkkkkkkkkkkkkkkkkkkkkk'>"
            ]
          },
          "metadata": {},
          "execution_count": 38
        }
      ],
      "source": [
        "tf.strings.reduce_join([num_to_char(tf.argmax(x)) for x in yhat[0]])"
      ]
    },
    {
      "cell_type": "code",
      "execution_count": null,
      "metadata": {
        "colab": {
          "base_uri": "https://localhost:8080/"
        },
        "id": "6rysTRzeNR1L",
        "outputId": "32e1017a-43ed-458e-8ae8-d925354338b1"
      },
      "outputs": [
        {
          "output_type": "execute_result",
          "data": {
            "text/plain": [
              "(None, 75, 37, 140, 1)"
            ]
          },
          "metadata": {},
          "execution_count": 39
        }
      ],
      "source": [
        "model.input_shape"
      ]
    },
    {
      "cell_type": "code",
      "execution_count": null,
      "metadata": {
        "colab": {
          "base_uri": "https://localhost:8080/"
        },
        "id": "GRXMDRcANqky",
        "outputId": "41360c43-2e97-48a4-bbf4-2ac6f446d3e4"
      },
      "outputs": [
        {
          "output_type": "execute_result",
          "data": {
            "text/plain": [
              "(None, 75, 41)"
            ]
          },
          "metadata": {},
          "execution_count": 40
        }
      ],
      "source": [
        "model.output_shape"
      ]
    },
    {
      "cell_type": "markdown",
      "metadata": {
        "id": "TaS56vW6N112"
      },
      "source": [
        "# Setup Training Options and Train"
      ]
    },
    {
      "cell_type": "code",
      "execution_count": null,
      "metadata": {
        "id": "HB8ayH4jNxUy"
      },
      "outputs": [],
      "source": [
        "#defining learning rate scheduler\n",
        "def scheduler(epoch, lr):\n",
        "  if epoch < 30:\n",
        "    return lr\n",
        "  else:\n",
        "    return lr * tf.math.exp(-0.1)"
      ]
    },
    {
      "cell_type": "code",
      "execution_count": null,
      "metadata": {
        "id": "gN6BT73ROlyh"
      },
      "outputs": [],
      "source": [
        "def CTCLoss(y_true, y_pred):\n",
        "  batch_len = tf.cast(tf.shape(y_true)[0], dtype=\"int64\")\n",
        "\n",
        "  # **Calculate input_length directly using y_pred:**\n",
        "  input_length = tf.cast(tf.shape(y_pred)[1], dtype=\"int64\")\n",
        "\n",
        "  # **Calculate and assign label_length before using it:**\n",
        "  label_length = tf.cast(tf.shape(y_true)[1], dtype=\"int64\")\n",
        "\n",
        "  input_length = input_length * tf.ones(shape=(batch_len, 1), dtype=\"int64\")\n",
        "  label_length = label_length * tf.ones(shape=(batch_len, 1), dtype=\"int64\")\n",
        "\n",
        "  loss = tf.keras.backend.ctc_batch_cost(y_true, y_pred, input_length, label_length)\n",
        "  return loss\n"
      ]
    },
    {
      "cell_type": "code",
      "execution_count": null,
      "metadata": {
        "id": "MFQi8EIydjn7"
      },
      "outputs": [],
      "source": [
        "class ProduceExample(tf.keras.callbacks.Callback):\n",
        "  def __init__(self, dataset) -> None:\n",
        "    self.dataset = dataset.as_numpy_iterator()\n",
        "\n",
        "  def on_epoch_end(self, epoch, logs=None) -> None:\n",
        "    data = self.dataset.next()\n",
        "    yhat = self.model.predict(data[0])\n",
        "    decoded = tf.keras.backend.ctc_decode(yhat, [75, 75], greedy=False)[0][0].numpy()\n",
        "    for x in range(len(yhat)):\n",
        "          print('Original:', tf.strings.reduce_join(num_to_char(data[1][x])).numpy().decode('utf-8'))\n",
        "          print('Prediction:', tf.strings.reduce_join(num_to_char(decoded[x])).numpy().decode('utf-8'))\n",
        "          print('~'*100)"
      ]
    },
    {
      "cell_type": "code",
      "execution_count": null,
      "metadata": {
        "id": "KQgzCdSphCp9"
      },
      "outputs": [],
      "source": [
        "model.compile(optimizer=Adam(learning_rate=0.0001), loss=CTCLoss)"
      ]
    },
    {
      "cell_type": "code",
      "execution_count": null,
      "metadata": {
        "id": "Zfp5jYFDkMxa"
      },
      "outputs": [],
      "source": [
        "checkpoint_callback = ModelCheckpoint(os.path.join('Models', 'checkpoint'), monitor='loss', save_weights_only = True)"
      ]
    },
    {
      "cell_type": "code",
      "execution_count": null,
      "metadata": {
        "id": "DuSvFp72h6Uh"
      },
      "outputs": [],
      "source": [
        "schedule_callback = LearningRateScheduler(scheduler)"
      ]
    },
    {
      "cell_type": "code",
      "execution_count": null,
      "metadata": {
        "id": "lA-Dt3-4fLNa"
      },
      "outputs": [],
      "source": [
        "example_callback = ProduceExample(data)"
      ]
    },
    {
      "cell_type": "code",
      "source": [
        "model.fit(data, validation_data = test, epochs= 80, callbacks= [checkpoint_callback , schedule_callback, example_callback])"
      ],
      "metadata": {
        "id": "QbWWNLWhkHnM"
      },
      "execution_count": null,
      "outputs": []
    },
    {
      "cell_type": "markdown",
      "metadata": {
        "id": "zrrwML4KKqBJ"
      },
      "source": [
        "# Make a Prediction"
      ]
    }
  ],
  "metadata": {
    "colab": {
      "provenance": [],
      "mount_file_id": "1hh4wNSrOEiGGWKSjQZ_Af0vlLb3AH4-s",
      "authorship_tag": "ABX9TyPYpauhQbrtFOdIvBojm0me",
      "include_colab_link": true
    },
    "kernelspec": {
      "display_name": "Python 3",
      "name": "python3"
    },
    "language_info": {
      "name": "python"
    }
  },
  "nbformat": 4,
  "nbformat_minor": 0
}